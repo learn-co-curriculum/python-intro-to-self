{
 "cells": [
  {
   "cell_type": "markdown",
   "metadata": {},
   "source": [
    "# A Deeper Dive Into `Self`"
   ]
  },
  {
   "cell_type": "markdown",
   "metadata": {},
   "source": [
    "## Introduction\n",
    "In this lesson, we are going to talk a little more about `self` in object oriented Python (OOP). We have seen a little bit about self when we learned about defining and calling instance methods. What we know so-far is that instance methods implicitly passes in, as its first argument, the instance object on which it was called. We also know that in order for us to execute an instance method, we need to *explicitly* define the instance method with at least one parameter, so that our instance methods can *implicitly* pass in the instance object. By convention, we name this parameter `self` since it is the reference to the object on which we are operating. Let's take a look at some code that uses `self`."
   ]
  },
  {
   "cell_type": "markdown",
   "metadata": {},
   "source": [
    "## Objectives\n",
    "* Using Self\n",
    "* Operating on Self\n",
    "* Using self to call instance methods"
   ]
  },
  {
   "cell_type": "markdown",
   "metadata": {},
   "source": [
    "# Using `self`"
   ]
  },
  {
   "cell_type": "markdown",
   "metadata": {},
   "source": [
    "In order to really understand self and how it's used, it is best to use an example. Let's use a the example of a **Person** class. A class produces instance objects, and we know that objects are just pieces of code that bundle together attributes like descriptors and behaviors. A Person can have an descriptors like `height`, `weight`, `age`, etc. and also have behaviors such as `saying_hello`, `eat_breakfast`, `talk_about_weather`, etc. "
   ]
  },
  {
   "cell_type": "code",
   "execution_count": 5,
   "metadata": {},
   "outputs": [
    {
     "name": "stdout",
     "output_type": "stream",
     "text": [
      "1. Hi, how are you?\n",
      "2. Yum that was delish!\n",
      "3. {'name': 'Gail', 'age': 30, 'weight': 'None of your business!'}\n"
     ]
    }
   ],
   "source": [
    "class Person():\n",
    "    \n",
    "    def say_hello(self):\n",
    "        return \"Hi, how are you?\"\n",
    "        \n",
    "    def eat_breakfast(self):\n",
    "        return \"Yum that was delish!\"\n",
    "        \n",
    "gail = Person()\n",
    "gail.name = \"Gail\"\n",
    "gail.age = 29\n",
    "gail.weight = 'None of your business!'\n",
    "print(\"1.\", gail.say_hello())\n",
    "print(\"2.\", gail.eat_breakfast())\n",
    "print(\"3.\", vars(gail))"
   ]
  },
  {
   "cell_type": "markdown",
   "metadata": {},
   "source": [
    "Here we can seee that our person instance objects have two behaviors and we can add instance variables and assign values to them pretty easily. What if we wanted a method that introduces oneself? It would be similar to our `say_hello` method, but would probably at least include our name, right? Let's refactor our class to include a `introduce` method."
   ]
  },
  {
   "cell_type": "code",
   "execution_count": 8,
   "metadata": {
    "scrolled": true
   },
   "outputs": [
    {
     "name": "stdout",
     "output_type": "stream",
     "text": [
      "1.  Hi, my name is Gail. It is a pleasure to meet you!\n",
      "2.  Hi, my name is Gail. It is a pleasure to meet you!\n"
     ]
    }
   ],
   "source": [
    "class Person():\n",
    "    \n",
    "    def introduce(self):\n",
    "        return \"Hi, my name is Gail. It is a pleasure to meet you!\"\n",
    "        \n",
    "gail = Person()\n",
    "gail.name = \"Gail\"\n",
    "the_snail = Person()\n",
    "the_snail.name = \"The Snail\"\n",
    "print(\"1. \", gail.introduce())\n",
    "print(\"2. \", the_snail.introduce())"
   ]
  },
  {
   "cell_type": "markdown",
   "metadata": {},
   "source": [
    "Uh oh! That's not quite right. We need our introduce method to be a bit more dynamic for each of the Person instance objects to be able to introduce themselves. This is where self comes in! `self`, after all, is the instance object we are asking to introduce itself. And since our instance method already has our instance object available, we can just interpolate our instance object's name attribute. \n",
    "\n",
    "Let's again refactor our class to make this change"
   ]
  },
  {
   "cell_type": "markdown",
   "metadata": {},
   "source": [
    "## Operating on `self`"
   ]
  },
  {
   "cell_type": "code",
   "execution_count": 11,
   "metadata": {},
   "outputs": [
    {
     "name": "stdout",
     "output_type": "stream",
     "text": [
      "1.  Hi, my name is Gail. It is a pleasure to meet you!\n",
      "2.  Hi, my name is the Snail. It is a pleasure to meet you!\n"
     ]
    }
   ],
   "source": [
    "class Person():\n",
    "    \n",
    "    def introduce(self):\n",
    "        return f\"Hi, my name is {self.name}. It is a pleasure to meet you!\"\n",
    "        \n",
    "gail = Person()\n",
    "gail.name = \"Gail\"\n",
    "the_snail = Person()\n",
    "the_snail.name = \"the Snail\"\n",
    "print(\"1. \", gail.introduce())\n",
    "print(\"2. \", the_snail.introduce())"
   ]
  },
  {
   "cell_type": "markdown",
   "metadata": {},
   "source": [
    "Great! See how the method is the same for both instance objects, but `self` is not the same. `self` always refers to the object which is being operated on. So, in the case of `gail`, the method returns the string with the `name` attribute of the instance object `gail`. \n",
    "\n",
    "Now let's think about some of our other behaviors that might be a bit more involved in order to make them dynamic. For example, everyone's favorite default conversation, the weather. It changes rapidly and seems to always be a choice topic for small talk. How would we create a method to introduce ourselves AND make a comment about the weather? Talk about a great way to introduce yourself!\n",
    "\n",
    "Let's see how we would do this with just a regular function:"
   ]
  },
  {
   "cell_type": "code",
   "execution_count": 14,
   "metadata": {},
   "outputs": [
    {
     "data": {
      "text/plain": [
       "\"Hi, my name is the Snail! What crazy overcast weather we're having, right?!\""
      ]
     },
     "execution_count": 14,
     "metadata": {},
     "output_type": "execute_result"
    }
   ],
   "source": [
    "def say_hello_and_weather(instance_obj, weather_pattern):\n",
    "    return f\"Hi, my name is {instance_obj.name}! What crazy {weather_pattern} weather we're having, right?!\"\n",
    "\n",
    "say_hello_and_weather(the_snail, \"overcast\")"
   ]
  },
  {
   "cell_type": "markdown",
   "metadata": {},
   "source": [
    "Alright, that is great but we want it as an instance method, right? So, let's go back to the drawing board with our Person class and see if we can get this awesome new greeting method figured out."
   ]
  },
  {
   "cell_type": "code",
   "execution_count": 15,
   "metadata": {},
   "outputs": [
    {
     "name": "stdout",
     "output_type": "stream",
     "text": [
      "1.  Hi, my name is the Snail! What crazy humid weather we're having, right?!\n"
     ]
    }
   ],
   "source": [
    "class Person():\n",
    "\n",
    "    def say_hello_and_weather(self, weather_pattern):\n",
    "        # we are using self instead of instance_obj because we know self represents the instance object\n",
    "        return f\"Hi, my name is {self.name}! What crazy {weather_pattern} weather we're having, right?!\"\n",
    "\n",
    "the_snail = Person()\n",
    "the_snail.name = \"the Snail\"\n",
    "print(\"1. \", the_snail.say_hello_and_weather(\"humid\"))\n",
    "# notice that we are ONLY passing in the weather pattern argument\n",
    "# instance methods **implicictly** pass in the instance object as the **first** argument"
   ]
  },
  {
   "cell_type": "markdown",
   "metadata": {},
   "source": [
    "Awesome, we nailed it! Again, note that the only arguments we pass in are those that come after `self` when we define an instance method's parameters.\n",
    "\n",
    "Now that we have figured out how to leverage self and even use instance methods with more than just `self` as an argument, let's look at how we can use self to operate on and modify an instance object.\n",
    "\n",
    "Let's say it is `gail`'s birthday. Gail is 29 and she is turning 30. How do we make sure our instance object reflects that? Well, we can define an instance method that updates `gail`'s age"
   ]
  },
  {
   "cell_type": "code",
   "execution_count": 21,
   "metadata": {},
   "outputs": [
    {
     "name": "stdout",
     "output_type": "stream",
     "text": [
      "1.  29\n",
      "2.  Happy Birthday to the Snail (aka ME)! Can't believe I'm 30?!\n",
      "3.  30\n"
     ]
    }
   ],
   "source": [
    "class Person():\n",
    "\n",
    "    def happy_birthday(self):\n",
    "        self.age += 1\n",
    "        return f\"Happy Birthday to {self.name} (aka ME)! Can't believe I'm {self.age}?!\"\n",
    "\n",
    "the_snail = Person()\n",
    "the_snail.name = \"the Snail\"\n",
    "the_snail.age = 29\n",
    "print(\"1. \", the_snail.age)\n",
    "print(\"2. \", the_snail.happy_birthday())\n",
    "print(\"3. \", the_snail.age)"
   ]
  },
  {
   "cell_type": "markdown",
   "metadata": {},
   "source": [
    "Obviously, this method could be improved, but what is important to note is that not only can we use self to *read* attributes from the instance object, but we can also use self inside these methods to change the attributes of the instance object. \n",
    "\n",
    "Let's take this a step further and look at how we can call other methods using self. "
   ]
  },
  {
   "cell_type": "markdown",
   "metadata": {},
   "source": [
    "## Calling Instance Methods on `self`\n",
    "\n",
    "Another very important behavior people have is eating. It is something that we all do and it helps prevent us from getting **hangry**, or angry because we're hungry."
   ]
  },
  {
   "cell_type": "code",
   "execution_count": 24,
   "metadata": {},
   "outputs": [
    {
     "name": "stdout",
     "output_type": "stream",
     "text": [
      "1.  True\n",
      "Hunger is being relieved\n",
      "2.  Wow, that really hit the spot! I am so full, but more importantly, I'm not hangry anymore!\n",
      "3.  False\n",
      "4.  Oh, I don't think I can eat another bite. Thank you, though!\n"
     ]
    }
   ],
   "source": [
    "class Person():\n",
    "\n",
    "    def eat_sandwhich(self):\n",
    "        if (self.hungry):\n",
    "            self.relieve_hunger()\n",
    "            return \"Wow, that really hit the spot! I am so full, but more importantly, I'm not hangry anymore!\"\n",
    "        else:\n",
    "            return \"Oh, I don't think I can eat another bite. Thank you, though!\"\n",
    "    \n",
    "    def relieve_hunger(self):\n",
    "        print(\"Hunger is being relieved\")\n",
    "        self.hungry = False\n",
    "\n",
    "the_snail = Person()\n",
    "the_snail.name = \"the Snail\"\n",
    "the_snail.hungry = True\n",
    "print(\"1. \", the_snail.hungry)\n",
    "print(\"2. \", the_snail.eat_sandwhich())\n",
    "print(\"3. \", the_snail.hungry)\n",
    "print(\"4. \", the_snail.eat_sandwhich())"
   ]
  },
  {
   "cell_type": "markdown",
   "metadata": {},
   "source": [
    "Awesome! We see that not only are we changing attributes of our instance object, we are also using `self` to call other instance methods, like we would do with the instance object outside of a function. "
   ]
  },
  {
   "cell_type": "markdown",
   "metadata": {},
   "source": [
    "## Summary"
   ]
  },
  {
   "cell_type": "markdown",
   "metadata": {},
   "source": [
    "In this lesson, we examined how we use `self` in OOP. We first reviewed using `self` to define our instance methods appropriately. Next we looked at how we can operated on `self` and leverage it in order to make our instance methods a bit more re-usable and dynamic for each of our instance objects by interpolating our instance object's `name` attribute. We also looked at using more than just `self` as an argument in our methods and using self to change the attributes on an isntance object. Finally, we introduced using self to call other instance methods."
   ]
  }
 ],
 "metadata": {
  "kernelspec": {
   "display_name": "Python 3",
   "language": "python",
   "name": "python3"
  },
  "language_info": {
   "codemirror_mode": {
    "name": "ipython",
    "version": 3
   },
   "file_extension": ".py",
   "mimetype": "text/x-python",
   "name": "python",
   "nbconvert_exporter": "python",
   "pygments_lexer": "ipython3",
   "version": "3.6.5"
  }
 },
 "nbformat": 4,
 "nbformat_minor": 2
}
